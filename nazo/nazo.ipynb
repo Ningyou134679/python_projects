{
 "cells": [
  {
   "cell_type": "code",
   "execution_count": 5,
   "metadata": {},
   "outputs": [],
   "source": [
    "from pyspark.sql.types import *\n",
    "from pyspark.sql import *\n",
    "from pyspark.sql.functions import *"
   ]
  },
  {
   "cell_type": "code",
   "execution_count": 6,
   "metadata": {},
   "outputs": [],
   "source": [
    "from pyspark.context import SparkContext\n",
    "from pyspark.sql.session import SparkSession\n",
    "sc = SparkContext('local')\n",
    "spark = SparkSession(sc)"
   ]
  },
  {
   "cell_type": "code",
   "execution_count": 24,
   "metadata": {},
   "outputs": [],
   "source": [
    "data = [\n",
    "    {'id': 1,\n",
    "     'title': 'indeed',\n",
    "     'user': '影1346xx@gめーる',\n",
    "     'pass': 'ランダム033',\n",
    "     'labels': ['website', 'work', 'career', 'recruitment']\n",
    "     },\n",
    "    {'id': 2,\n",
    "     'title': 'マギレコ',\n",
    "     'user': 'BuRzYDhb',\n",
    "     'pass': '(N)ななし427',\n",
    "     'msg': 'us acc',\n",
    "     'labels': ['game', 'ios', 'マギレコ']\n",
    "     },\n",
    "    {'id': 3,\n",
    "     'title': 'マギレコ',\n",
    "     'user': 'hHwSyzmT',\n",
    "     'pass': '(R)ランダム96tanjobi',\n",
    "     'msg': 'cn acc',\n",
    "     'labels': ['game', 'ios', 'マギレコ']\n",
    "     },\n",
    "    {'id': 4,\n",
    "     'title': 'asobimo',\n",
    "     'user': 'ダンテ1346xx@gめーる',\n",
    "     'pass': '(R)ランダム96tanjobi',\n",
    "     'labels': ['game', 'ios', 'asobimo']\n",
    "     },\n",
    "    {'id': 5,\n",
    "     'title': 'ラグオリ',\n",
    "     'user': 'ダンテ1346xx@gめーる',\n",
    "     'msg': 'ggl login にんぎょう acc',\n",
    "     'labels': ['game', 'ios', 'ラグオリ']\n",
    "     },\n",
    "    {'id': 6,\n",
    "     'title': 'ラグオリ',\n",
    "     'user': 'かげ1346xx@gめーる',\n",
    "     'msg': 'ggl login ヤドカリ acc',\n",
    "     'labels': ['game', 'ios', 'ラグオリ']\n",
    "     },\n",
    "    {'id': 7,\n",
    "     'title': 'e克斯プレス',\n",
    "     'user': 'しず112019@outlook',\n",
    "     'pass': '@らんだむ033',\n",
    "     'msg': 'EUF3RHKRATSWVFY58ATLFYB',\n",
    "     'labels': ['vpn']\n",
    "     },\n",
    "    {'id': 8,\n",
    "     'title': '12ビピン',\n",
    "     'user': 'しず112019@outlook',\n",
    "     'pass': '@らんだむ96tanjo',\n",
    "     'msg': 'lamujewupu:tasuluwuge, blockthis.xyz, sk.blockthis.xyz',\n",
    "     'labels': ['vpn']\n",
    "     },\n",
    "    {'id': 9,\n",
    "     'title': 'ucss',\n",
    "     'user': 'しず112020@outlook',\n",
    "     'pass': '@らんだむ_96tanjo',\n",
    "     'labels': ['vpn']\n",
    "     },\n",
    "    {'id': 10,\n",
    "     'title': 'えっちえすぎんこう',\n",
    "     'pass': '(96tan)MMddyyyy',\n",
    "     'msg': 'はーど token',\n",
    "     'labels': ['work', 'career', 'えっちえすぎんこう']\n",
    "     },\n",
    "    {'id': 11,\n",
    "     'title': 'えっちえすぎんこう',\n",
    "     'pass': '(96tan)yyyyMM',\n",
    "     'msg': 'そふと token',\n",
    "     'labels': ['work', 'career', 'えっちえすぎんこう']\n",
    "     },\n",
    "    {'id': 12,\n",
    "     'title': 'えっちえすぎんこう',\n",
    "     'user': '450なな7337',\n",
    "     'pass': '@しごとMMyyyy',\n",
    "     'msg': 'すたっふcred',\n",
    "     'labels': ['work', 'career', 'えっちえすぎんこう']\n",
    "     },\n",
    "    {'id': 13,\n",
    "     'title': 'てくSystems',\n",
    "     'user': 'しず2019@outlook',\n",
    "     'pass': 'しごと2023',\n",
    "     'msg': 'timesheet https://allegisgroup-apac1.force.com/community/s/',\n",
    "     'labels': ['work', 'career', 'あれぎす', 'timesheet']\n",
    "     }\n",
    "]\n",
    "schema = StructType([\n",
    "    StructField('id', LongType()),\n",
    "    StructField('title', StringType()),\n",
    "    StructField('user', StringType()),\n",
    "    StructField('pass', StringType()),\n",
    "    StructField('msg', StringType()),\n",
    "    StructField('labels', ArrayType(StringType())),\n",
    "])\n"
   ]
  },
  {
   "cell_type": "code",
   "execution_count": 25,
   "metadata": {},
   "outputs": [
    {
     "name": "stdout",
     "output_type": "stream",
     "text": [
      "root\n",
      " |-- id: long (nullable = true)\n",
      " |-- title: string (nullable = true)\n",
      " |-- user: string (nullable = true)\n",
      " |-- pass: string (nullable = true)\n",
      " |-- msg: string (nullable = true)\n",
      " |-- labels: array (nullable = true)\n",
      " |    |-- element: string (containsNull = true)\n",
      "\n"
     ]
    }
   ],
   "source": [
    "df = spark.createDataFrame(data, schema=schema)\n",
    "df.printSchema()"
   ]
  },
  {
   "cell_type": "code",
   "execution_count": 26,
   "metadata": {},
   "outputs": [
    {
     "name": "stdout",
     "output_type": "stream",
     "text": [
      "+---+--------+--------------------+--------------------+------------------------+------------------------------------+\n",
      "|id |title   |user                |pass                |msg                     |labels                              |\n",
      "+---+--------+--------------------+--------------------+------------------------+------------------------------------+\n",
      "|1  |indeed  |影1346xx@gめーる    |ランダム033         |null                    |[website, work, career, recruitment]|\n",
      "|2  |マギレコ|BuRzYDhb            |(N)ななし427        |us acc                  |[game, ios, マギレコ]               |\n",
      "|3  |マギレコ|hHwSyzmT            |(R)ランダム96tanjobi|cn acc                  |[game, ios, マギレコ]               |\n",
      "|4  |asobimo |ダンテ1346xx@gめーる|(R)ランダム96tanjobi|null                    |[game, ios, asobimo]                |\n",
      "|5  |ラグオリ|ダンテ1346xx@gめーる|null                |ggl login にんぎょう acc|[game, ios, ラグオリ]               |\n",
      "+---+--------+--------------------+--------------------+------------------------+------------------------------------+\n",
      "only showing top 5 rows\n",
      "\n"
     ]
    }
   ],
   "source": [
    "df.show(5,truncate=False)"
   ]
  },
  {
   "cell_type": "code",
   "execution_count": 27,
   "metadata": {},
   "outputs": [],
   "source": [
    "output = df.withColumn('labels', col('labels').cast('string'))\n",
    "output.write.csv(path='pyspark_test.csv', header=\"true\", mode=\"overwrite\")\n",
    "#output.toPandas().to_csv(\"test.csv\")"
   ]
  },
  {
   "cell_type": "code",
   "execution_count": 28,
   "metadata": {},
   "outputs": [
    {
     "name": "stdout",
     "output_type": "stream",
     "text": [
      "root\n",
      " |-- id: string (nullable = true)\n",
      " |-- title: string (nullable = true)\n",
      " |-- user: string (nullable = true)\n",
      " |-- pass: string (nullable = true)\n",
      " |-- msg: string (nullable = true)\n",
      " |-- labels: string (nullable = true)\n",
      "\n",
      "+---+--------+--------------------+--------------------+------------------------+------------------------------------+\n",
      "|id |title   |user                |pass                |msg                     |labels                              |\n",
      "+---+--------+--------------------+--------------------+------------------------+------------------------------------+\n",
      "|1  |indeed  |影1346xx@gめーる    |ランダム033         |null                    |[website, work, career, recruitment]|\n",
      "|2  |マギレコ|BuRzYDhb            |(N)ななし427        |us acc                  |[game, ios, マギレコ]               |\n",
      "|3  |マギレコ|hHwSyzmT            |(R)ランダム96tanjobi|cn acc                  |[game, ios, マギレコ]               |\n",
      "|4  |asobimo |ダンテ1346xx@gめーる|(R)ランダム96tanjobi|null                    |[game, ios, asobimo]                |\n",
      "|5  |ラグオリ|ダンテ1346xx@gめーる|null                |ggl login にんぎょう acc|[game, ios, ラグオリ]               |\n",
      "+---+--------+--------------------+--------------------+------------------------+------------------------------------+\n",
      "only showing top 5 rows\n",
      "\n"
     ]
    }
   ],
   "source": [
    "output_df = spark.read.csv('pyspark_test.csv', header = True)\n",
    "output_df.printSchema()\n",
    "output_df.show(5,False)"
   ]
  }
 ],
 "metadata": {
  "kernelspec": {
   "display_name": "Python 3",
   "language": "python",
   "name": "python3"
  },
  "language_info": {
   "codemirror_mode": {
    "name": "ipython",
    "version": 3
   },
   "file_extension": ".py",
   "mimetype": "text/x-python",
   "name": "python",
   "nbconvert_exporter": "python",
   "pygments_lexer": "ipython3",
   "version": "3.6.4"
  }
 },
 "nbformat": 4,
 "nbformat_minor": 2
}
