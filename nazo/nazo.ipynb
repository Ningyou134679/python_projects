{
 "cells": [
  {
   "cell_type": "code",
   "execution_count": 5,
   "metadata": {},
   "outputs": [],
   "source": [
    "from pyspark.sql.types import *\n",
    "from pyspark.sql import *\n",
    "from pyspark.sql.functions import *"
   ]
  },
  {
   "cell_type": "code",
   "execution_count": 6,
   "metadata": {},
   "outputs": [],
   "source": [
    "from pyspark.context import SparkContext\n",
    "from pyspark.sql.session import SparkSession\n",
    "sc = SparkContext('local')\n",
    "spark = SparkSession(sc)"
   ]
  },
  {
   "cell_type": "code",
   "execution_count": 19,
   "metadata": {},
   "outputs": [],
   "source": [
    "data = [\n",
    "    {'id': 1,\n",
    "     'title': 'indeed',\n",
    "     'user': '影134679 gめーる',\n",
    "     'pass': 'ランダム033',\n",
    "     'labels': ['website', 'work', 'career', 'recruitment']\n",
    "     },\n",
    "    {'id': 2,\n",
    "     'title': 'えっちえすぎんこう',\n",
    "     'pass': '(96tan)MMddyyyy',\n",
    "     'msg': 'はーど token',\n",
    "     'labels': ['work', 'career', 'えっちえすぎんこう']\n",
    "     },\n",
    "    {'id': 3,\n",
    "     'title': 'えっちえすぎんこう',\n",
    "     'pass': '(96tan)yyyyMM',\n",
    "     'msg': 'そふと token',\n",
    "     'labels': ['work', 'career', 'えっちえすぎんこう']\n",
    "     },\n",
    "    {'id': 4,\n",
    "     'title': 'えっちえすぎんこう',\n",
    "     'user': '450なな7337',\n",
    "     'pass': '@しごとMMyyyy',\n",
    "     'msg': 'すたっふcred',\n",
    "     'labels': ['work', 'career', 'えっちえすぎんこう']\n",
    "     },\n",
    "    {'id': 5,\n",
    "     'title': 'あれぎす',\n",
    "     'user': 'しず2019 outlook',\n",
    "     'pass': 'しごと2023',\n",
    "     'msg': 'timesheet https://allegisgroup-apac1.force.com/community/s/',\n",
    "     'labels': ['work', 'career', 'あれぎす', 'timesheet']\n",
    "     }\n",
    "]\n",
    "schema = StructType([\n",
    "    StructField('id', LongType()),\n",
    "    StructField('title', StringType()),\n",
    "    StructField('user', StringType()),\n",
    "    StructField('pass', StringType()),\n",
    "    StructField('msg', StringType()),\n",
    "    StructField('labels', ArrayType(StringType())),\n",
    "])\n"
   ]
  },
  {
   "cell_type": "code",
   "execution_count": 20,
   "metadata": {},
   "outputs": [
    {
     "name": "stdout",
     "output_type": "stream",
     "text": [
      "root\n",
      " |-- id: long (nullable = true)\n",
      " |-- title: string (nullable = true)\n",
      " |-- user: string (nullable = true)\n",
      " |-- pass: string (nullable = true)\n",
      " |-- msg: string (nullable = true)\n",
      " |-- labels: array (nullable = true)\n",
      " |    |-- element: string (containsNull = true)\n",
      "\n"
     ]
    }
   ],
   "source": [
    "df = spark.createDataFrame(data, schema=schema)\n",
    "df.printSchema()"
   ]
  },
  {
   "cell_type": "code",
   "execution_count": 21,
   "metadata": {},
   "outputs": [
    {
     "name": "stdout",
     "output_type": "stream",
     "text": [
      "+---+------------------+----------------+---------------+-----------------------------------------------------------+------------------------------------+\n",
      "|id |title             |user            |pass           |msg                                                        |labels                              |\n",
      "+---+------------------+----------------+---------------+-----------------------------------------------------------+------------------------------------+\n",
      "|1  |indeed            |影134679 gめーる|ランダム033    |null                                                       |[website, work, career, recruitment]|\n",
      "|2  |えっちえすぎんこう|null            |(96tan)MMddyyyy|はーど token                                               |[work, career, えっちえすぎんこう]  |\n",
      "|3  |えっちえすぎんこう|null            |(96tan)yyyyMM  |そふと token                                               |[work, career, えっちえすぎんこう]  |\n",
      "|4  |えっちえすぎんこう|450なな7337     |@しごとMMyyyy  |すたっふcred                                               |[work, career, えっちえすぎんこう]  |\n",
      "|5  |あれぎす          |しず2019 outlook|しごと2023     |timesheet https://allegisgroup-apac1.force.com/community/s/|[work, career, あれぎす, timesheet] |\n",
      "+---+------------------+----------------+---------------+-----------------------------------------------------------+------------------------------------+\n",
      "\n"
     ]
    }
   ],
   "source": [
    "df.show(5,truncate=False)"
   ]
  },
  {
   "cell_type": "code",
   "execution_count": 22,
   "metadata": {},
   "outputs": [],
   "source": [
    "output = df.withColumn('labels', col('labels').cast('string'))\n",
    "output.write.csv(path='pyspark_test.csv', header=\"true\", mode=\"overwrite\")\n",
    "#output.toPandas().to_csv(\"test.csv\")"
   ]
  },
  {
   "cell_type": "code",
   "execution_count": 23,
   "metadata": {},
   "outputs": [
    {
     "name": "stdout",
     "output_type": "stream",
     "text": [
      "root\n",
      " |-- id: string (nullable = true)\n",
      " |-- title: string (nullable = true)\n",
      " |-- user: string (nullable = true)\n",
      " |-- pass: string (nullable = true)\n",
      " |-- msg: string (nullable = true)\n",
      " |-- labels: string (nullable = true)\n",
      "\n",
      "+---+------------------+----------------+---------------+-----------------------------------------------------------+------------------------------------+\n",
      "|id |title             |user            |pass           |msg                                                        |labels                              |\n",
      "+---+------------------+----------------+---------------+-----------------------------------------------------------+------------------------------------+\n",
      "|1  |indeed            |影134679 gめーる|ランダム033    |null                                                       |[website, work, career, recruitment]|\n",
      "|2  |えっちえすぎんこう|null            |(96tan)MMddyyyy|はーど token                                               |[work, career, えっちえすぎんこう]  |\n",
      "|3  |えっちえすぎんこう|null            |(96tan)yyyyMM  |そふと token                                               |[work, career, えっちえすぎんこう]  |\n",
      "|4  |えっちえすぎんこう|450なな7337     |@しごとMMyyyy  |すたっふcred                                               |[work, career, えっちえすぎんこう]  |\n",
      "|5  |あれぎす          |しず2019 outlook|しごと2023     |timesheet https://allegisgroup-apac1.force.com/community/s/|[work, career, あれぎす, timesheet] |\n",
      "+---+------------------+----------------+---------------+-----------------------------------------------------------+------------------------------------+\n",
      "\n"
     ]
    }
   ],
   "source": [
    "output_df = spark.read.csv('pyspark_test.csv', header = True)\n",
    "output_df.printSchema()\n",
    "output_df.show(5,False)"
   ]
  }
 ],
 "metadata": {
  "kernelspec": {
   "display_name": "Python 3",
   "language": "python",
   "name": "python3"
  },
  "language_info": {
   "codemirror_mode": {
    "name": "ipython",
    "version": 3
   },
   "file_extension": ".py",
   "mimetype": "text/x-python",
   "name": "python",
   "nbconvert_exporter": "python",
   "pygments_lexer": "ipython3",
   "version": "3.6.4"
  }
 },
 "nbformat": 4,
 "nbformat_minor": 2
}
