{
 "cells": [
  {
   "cell_type": "code",
   "execution_count": 2,
   "metadata": {},
   "outputs": [],
   "source": [
    "from pyspark.sql.types import *\n",
    "from pyspark.sql import *\n",
    "from pyspark.sql.functions import *"
   ]
  },
  {
   "cell_type": "code",
   "execution_count": 3,
   "metadata": {},
   "outputs": [],
   "source": [
    "from pyspark.context import SparkContext\n",
    "from pyspark.sql.session import SparkSession\n",
    "sc = SparkContext('local')\n",
    "spark = SparkSession(sc)"
   ]
  },
  {
   "cell_type": "code",
   "execution_count": 4,
   "metadata": {},
   "outputs": [],
   "source": [
    "data = [\n",
    "    {'id': 1,\n",
    "     'domain': 'indeed',\n",
    "     'user': '影134679',\n",
    "     'pass': 'ランダム033',\n",
    "     'labels': ['work', 'career', 'recruitment']\n",
    "     }\n",
    "]\n",
    "schema = StructType([\n",
    "    StructField('id', LongType()),\n",
    "    StructField('domain', StringType()),\n",
    "    StructField('user', StringType()),\n",
    "    StructField('pass', StringType()),\n",
    "    StructField('labels', ArrayType(StringType())),\n",
    "])"
   ]
  },
  {
   "cell_type": "code",
   "execution_count": 5,
   "metadata": {},
   "outputs": [
    {
     "name": "stdout",
     "output_type": "stream",
     "text": [
      "root\n",
      " |-- id: long (nullable = true)\n",
      " |-- domain: string (nullable = true)\n",
      " |-- user: string (nullable = true)\n",
      " |-- pass: string (nullable = true)\n",
      " |-- labels: array (nullable = true)\n",
      " |    |-- element: string (containsNull = true)\n",
      "\n"
     ]
    }
   ],
   "source": [
    "df = spark.createDataFrame(data, schema=schema)\n",
    "df.printSchema()"
   ]
  },
  {
   "cell_type": "code",
   "execution_count": 8,
   "metadata": {},
   "outputs": [
    {
     "name": "stdout",
     "output_type": "stream",
     "text": [
      "+---+------+--------+-----------+---------------------------+\n",
      "|id |domain|user    |pass       |labels                     |\n",
      "+---+------+--------+-----------+---------------------------+\n",
      "|1  |indeed|影134679|ランダム033|[work, career, recruitment]|\n",
      "+---+------+--------+-----------+---------------------------+\n",
      "\n"
     ]
    }
   ],
   "source": [
    "df.show(5,truncate=False)"
   ]
  },
  {
   "cell_type": "code",
   "execution_count": 12,
   "metadata": {},
   "outputs": [],
   "source": [
    "output = df.withColumn('labels', col('labels').cast('string'))\n",
    "output.write.csv(path='pyspark_test.csv', header=\"true\", mode=\"overwrite\")\n",
    "#output.toPandas().to_csv(\"test.csv\")"
   ]
  },
  {
   "cell_type": "code",
   "execution_count": 14,
   "metadata": {},
   "outputs": [
    {
     "name": "stdout",
     "output_type": "stream",
     "text": [
      "root\n",
      " |-- id: string (nullable = true)\n",
      " |-- domain: string (nullable = true)\n",
      " |-- user: string (nullable = true)\n",
      " |-- pass: string (nullable = true)\n",
      " |-- labels: string (nullable = true)\n",
      "\n",
      "+---+------+--------+-----------+---------------------------+\n",
      "|id |domain|user    |pass       |labels                     |\n",
      "+---+------+--------+-----------+---------------------------+\n",
      "|1  |indeed|影134679|ランダム033|[work, career, recruitment]|\n",
      "+---+------+--------+-----------+---------------------------+\n",
      "\n"
     ]
    }
   ],
   "source": [
    "output_df = spark.read.csv('pyspark_test.csv', header = True)\n",
    "output_df.printSchema()\n",
    "output_df.show(5,False)"
   ]
  }
 ],
 "metadata": {
  "kernelspec": {
   "display_name": "Python 3",
   "language": "python",
   "name": "python3"
  },
  "language_info": {
   "codemirror_mode": {
    "name": "ipython",
    "version": 3
   },
   "file_extension": ".py",
   "mimetype": "text/x-python",
   "name": "python",
   "nbconvert_exporter": "python",
   "pygments_lexer": "ipython3",
   "version": "3.6.4"
  }
 },
 "nbformat": 4,
 "nbformat_minor": 2
}
